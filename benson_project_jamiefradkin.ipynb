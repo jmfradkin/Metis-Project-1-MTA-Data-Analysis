{
 "cells": [
  {
   "cell_type": "markdown",
   "metadata": {},
   "source": [
    "# Project Benson"
   ]
  },
  {
   "cell_type": "markdown",
   "metadata": {},
   "source": [
    "*Project 1 of Metis Data Science Bootcamp.* Problem statement below:  \n",
    "\n",
    "\n",
    "WomenTechWomenYes(WTWY) is interested in harnessing the power of data and analytics to optimize the effectiveness of our street team work, which is a significant portion of our fundraising efforts for our annual gala at the beginning of the summer each year.  \n",
    "Where we’d like to solicit your engagement is to use MTA subway data, which as I’m sure you know is available freely from the city, to help us optimize the placement of our street teams, such that we can gather the most signatures, ideally from those who will attend the gala and contribute to our cause.    "
   ]
  },
  {
   "cell_type": "code",
   "execution_count": 211,
   "metadata": {
    "collapsed": true
   },
   "outputs": [],
   "source": [
    "import dateutil.parser\n",
    "import datetime\n",
    "import matplotlib.pyplot as plt\n",
    "%matplotlib inline\n",
    "import pandas as pd\n",
    "import csv\n",
    "from collections import defaultdict\n",
    "import calendar\n",
    "import seaborn\n",
    "import warnings\n",
    "warnings.filterwarnings('ignore')"
   ]
  },
  {
   "cell_type": "markdown",
   "metadata": {},
   "source": [
    "Read in MTA for 8 weeks spanning April and May 2015 and get daily entries:"
   ]
  },
  {
   "cell_type": "code",
   "execution_count": 3,
   "metadata": {
    "collapsed": false
   },
   "outputs": [],
   "source": [
    "dates=['404','411','418','425','502','509','516','523']\n",
    "file_list=[]\n",
    "for d in dates:\n",
    "    c=csv.reader(open(\"turnstile_data/turnstile_150{}.csv\".format(d),\"rb\"))\n",
    "    c=[[word.strip() for word in row] for row in c][1:]\n",
    "    file_list.append(c)"
   ]
  },
  {
   "cell_type": "markdown",
   "metadata": {},
   "source": [
    "#### Get total daily entries per TURNSTILE (SCP):"
   ]
  },
  {
   "cell_type": "code",
   "execution_count": 11,
   "metadata": {
    "collapsed": false
   },
   "outputs": [],
   "source": [
    "def turnstile(files):\n",
    "    turnstile_dict=defaultdict(list)\n",
    "    temp_dict=defaultdict(list)\n",
    "    for row in files:\n",
    "        temp_key=(row[0],row[1],row[2],row[3],dateutil.parser.parse(row[6])) \n",
    "        entries=int(row[9])\n",
    "        temp_value=[entries]\n",
    "        temp_dict[temp_key].append(entries)\n",
    "    for k,v in temp_dict.items():\n",
    "        turnstile_dict[k].append(max(v)-min(v))\n",
    "    return turnstile_dict"
   ]
  },
  {
   "cell_type": "code",
   "execution_count": 158,
   "metadata": {
    "collapsed": false
   },
   "outputs": [],
   "source": [
    "turnstile_df=pd.DataFrame(turnstile(file_list[0]).keys())\n",
    "turnstile_df['val']=turnstile(file_list[0]).values()"
   ]
  },
  {
   "cell_type": "code",
   "execution_count": 159,
   "metadata": {
    "collapsed": false
   },
   "outputs": [],
   "source": [
    "for i in range(1,len(file_list)):\n",
    "    turnstile_temp=pd.DataFrame(turnstile(file_list[i]).keys())\n",
    "    turnstile_temp['val']=turnstile(file_list[i]).values()\n",
    "    turnstile_df=pd.concat([turnstile_df,turnstile_temp])"
   ]
  },
  {
   "cell_type": "code",
   "execution_count": 160,
   "metadata": {
    "collapsed": false
   },
   "outputs": [
    {
     "data": {
      "text/html": [
       "<div>\n",
       "<table border=\"1\" class=\"dataframe\">\n",
       "  <thead>\n",
       "    <tr style=\"text-align: right;\">\n",
       "      <th></th>\n",
       "      <th>C/A</th>\n",
       "      <th>UNIT</th>\n",
       "      <th>SCP</th>\n",
       "      <th>STATION</th>\n",
       "      <th>DATE</th>\n",
       "      <th>ENTRIES</th>\n",
       "      <th>WEEKDAY</th>\n",
       "    </tr>\n",
       "  </thead>\n",
       "  <tbody>\n",
       "    <tr>\n",
       "      <th>0</th>\n",
       "      <td>N020</td>\n",
       "      <td>R101</td>\n",
       "      <td>00-00-02</td>\n",
       "      <td>145 ST</td>\n",
       "      <td>2015-03-31</td>\n",
       "      <td>1938</td>\n",
       "      <td>Tuesday</td>\n",
       "    </tr>\n",
       "    <tr>\n",
       "      <th>1</th>\n",
       "      <td>A060</td>\n",
       "      <td>R001</td>\n",
       "      <td>00-00-02</td>\n",
       "      <td>WHITEHALL ST</td>\n",
       "      <td>2015-04-02</td>\n",
       "      <td>1472</td>\n",
       "      <td>Thursday</td>\n",
       "    </tr>\n",
       "    <tr>\n",
       "      <th>2</th>\n",
       "      <td>N192</td>\n",
       "      <td>R336</td>\n",
       "      <td>00-05-00</td>\n",
       "      <td>BEACH 60 ST</td>\n",
       "      <td>2015-03-29</td>\n",
       "      <td>0</td>\n",
       "      <td>Sunday</td>\n",
       "    </tr>\n",
       "    <tr>\n",
       "      <th>3</th>\n",
       "      <td>N130</td>\n",
       "      <td>R383</td>\n",
       "      <td>01-06-01</td>\n",
       "      <td>HUDSON-80 ST</td>\n",
       "      <td>2015-04-02</td>\n",
       "      <td>736</td>\n",
       "      <td>Thursday</td>\n",
       "    </tr>\n",
       "    <tr>\n",
       "      <th>4</th>\n",
       "      <td>N124</td>\n",
       "      <td>R103</td>\n",
       "      <td>00-03-00</td>\n",
       "      <td>BROADWAY-ENY</td>\n",
       "      <td>2015-04-03</td>\n",
       "      <td>951</td>\n",
       "      <td>Friday</td>\n",
       "    </tr>\n",
       "  </tbody>\n",
       "</table>\n",
       "</div>"
      ],
      "text/plain": [
       "    C/A  UNIT       SCP       STATION       DATE  ENTRIES   WEEKDAY\n",
       "0  N020  R101  00-00-02        145 ST 2015-03-31     1938   Tuesday\n",
       "1  A060  R001  00-00-02  WHITEHALL ST 2015-04-02     1472  Thursday\n",
       "2  N192  R336  00-05-00   BEACH 60 ST 2015-03-29        0    Sunday\n",
       "3  N130  R383  01-06-01  HUDSON-80 ST 2015-04-02      736  Thursday\n",
       "4  N124  R103  00-03-00  BROADWAY-ENY 2015-04-03      951    Friday"
      ]
     },
     "execution_count": 160,
     "metadata": {},
     "output_type": "execute_result"
    }
   ],
   "source": [
    "turnstile_df.columns=['C/A','UNIT','SCP','STATION','DATE','ENTRIES']\n",
    "turnstile_df['ENTRIES']=turnstile_df['ENTRIES'].apply(lambda x: x[0])\n",
    "turnstile_df['WEEKDAY']=[calendar.day_name[d.weekday()] for d in turnstile_df['DATE']]\n",
    "turnstile_df.head()"
   ]
  },
  {
   "cell_type": "markdown",
   "metadata": {},
   "source": [
    "#### Find stations with highest overall travel:"
   ]
  },
  {
   "cell_type": "markdown",
   "metadata": {},
   "source": [
    "**Note:** I am indexing by the the Control Area as well since multiple stations are listed under the same name."
   ]
  },
  {
   "cell_type": "markdown",
   "metadata": {},
   "source": [
    "Grouping data by C/A and Station and keeping only the entries that are in Manhattan:"
   ]
  },
  {
   "cell_type": "code",
   "execution_count": 212,
   "metadata": {
    "collapsed": false
   },
   "outputs": [
    {
     "data": {
      "text/html": [
       "<div>\n",
       "<table border=\"1\" class=\"dataframe\">\n",
       "  <thead>\n",
       "    <tr style=\"text-align: right;\">\n",
       "      <th></th>\n",
       "      <th>C/A</th>\n",
       "      <th>STATION</th>\n",
       "      <th>ENTRIES</th>\n",
       "    </tr>\n",
       "  </thead>\n",
       "  <tbody>\n",
       "    <tr>\n",
       "      <th>506</th>\n",
       "      <td>R173</td>\n",
       "      <td>116 ST-COLUMBIA</td>\n",
       "      <td>3433944.157738</td>\n",
       "    </tr>\n",
       "    <tr>\n",
       "      <th>532</th>\n",
       "      <td>R206</td>\n",
       "      <td>FULTON ST</td>\n",
       "      <td>2785640.730159</td>\n",
       "    </tr>\n",
       "    <tr>\n",
       "      <th>564</th>\n",
       "      <td>R245</td>\n",
       "      <td>59 ST</td>\n",
       "      <td>2313685.683036</td>\n",
       "    </tr>\n",
       "    <tr>\n",
       "      <th>595</th>\n",
       "      <td>R301</td>\n",
       "      <td>110 ST-CPN</td>\n",
       "      <td>2189992.589286</td>\n",
       "    </tr>\n",
       "    <tr>\n",
       "      <th>381</th>\n",
       "      <td>N513</td>\n",
       "      <td>14 ST-6 AVE</td>\n",
       "      <td>2189505.125000</td>\n",
       "    </tr>\n",
       "    <tr>\n",
       "      <th>289</th>\n",
       "      <td>N203</td>\n",
       "      <td>161 ST-YANKEE</td>\n",
       "      <td>1917771.895604</td>\n",
       "    </tr>\n",
       "    <tr>\n",
       "      <th>472</th>\n",
       "      <td>R130</td>\n",
       "      <td>18 ST</td>\n",
       "      <td>716610.103571</td>\n",
       "    </tr>\n",
       "    <tr>\n",
       "      <th>23</th>\n",
       "      <td>A043</td>\n",
       "      <td>CANAL ST</td>\n",
       "      <td>597787.788961</td>\n",
       "    </tr>\n",
       "    <tr>\n",
       "      <th>297</th>\n",
       "      <td>N213</td>\n",
       "      <td>TREMONT AVE</td>\n",
       "      <td>539461.242545</td>\n",
       "    </tr>\n",
       "    <tr>\n",
       "      <th>529</th>\n",
       "      <td>R204</td>\n",
       "      <td>WALL ST</td>\n",
       "      <td>299851.551786</td>\n",
       "    </tr>\n",
       "    <tr>\n",
       "      <th>493</th>\n",
       "      <td>R160A</td>\n",
       "      <td>66 ST-LINCOLN</td>\n",
       "      <td>299058.265306</td>\n",
       "    </tr>\n",
       "    <tr>\n",
       "      <th>10</th>\n",
       "      <td>A025</td>\n",
       "      <td>34 ST-HERALD SQ</td>\n",
       "      <td>143288.067857</td>\n",
       "    </tr>\n",
       "    <tr>\n",
       "      <th>652</th>\n",
       "      <td>R501</td>\n",
       "      <td>5 AVE-BRYANT PK</td>\n",
       "      <td>43068.144643</td>\n",
       "    </tr>\n",
       "    <tr>\n",
       "      <th>479</th>\n",
       "      <td>R138</td>\n",
       "      <td>34 ST-PENN STA</td>\n",
       "      <td>22923.739286</td>\n",
       "    </tr>\n",
       "    <tr>\n",
       "      <th>228</th>\n",
       "      <td>N080</td>\n",
       "      <td>W 4 ST-WASH SQ</td>\n",
       "      <td>5184.737245</td>\n",
       "    </tr>\n",
       "  </tbody>\n",
       "</table>\n",
       "</div>"
      ],
      "text/plain": [
       "       C/A          STATION         ENTRIES\n",
       "506   R173  116 ST-COLUMBIA  3433944.157738\n",
       "532   R206        FULTON ST  2785640.730159\n",
       "564   R245            59 ST  2313685.683036\n",
       "595   R301       110 ST-CPN  2189992.589286\n",
       "381   N513      14 ST-6 AVE  2189505.125000\n",
       "289   N203    161 ST-YANKEE  1917771.895604\n",
       "472   R130            18 ST   716610.103571\n",
       "23    A043         CANAL ST   597787.788961\n",
       "297   N213      TREMONT AVE   539461.242545\n",
       "529   R204          WALL ST   299851.551786\n",
       "493  R160A    66 ST-LINCOLN   299058.265306\n",
       "10    A025  34 ST-HERALD SQ   143288.067857\n",
       "652   R501  5 AVE-BRYANT PK    43068.144643\n",
       "479   R138   34 ST-PENN STA    22923.739286\n",
       "228   N080   W 4 ST-WASH SQ     5184.737245"
      ]
     },
     "execution_count": 212,
     "metadata": {},
     "output_type": "execute_result"
    }
   ],
   "source": [
    "stationtotal=turnstile_df.groupby(['C/A','STATION'],as_index=False).mean()\n",
    "stationtotal=stationtotal.sort(columns='ENTRIES',ascending=False)[:30]\n",
    "\n",
    "NYC=['FULTON ST','161 ST-YANKEE','116 ST-COLUMBIA','59 ST','110 ST-CPN','CANAL ST',\\\n",
    "     '14 ST-6 AVE','TREMONT AVE','18 ST','WALL ST','66 ST-LINCOLN',\\\n",
    "     '34 ST-HERALD SQ','5 AVE-BRYANT PK','34 ST-PENN STA', 'W 4 ST-WASH SQ']\n",
    "\n",
    "stationtotal=stationtotal[stationtotal['STATION'].isin(NYC)]\n",
    "stationtotal=stationtotal[stationtotal['C/A']!='R205A']\n",
    "stationtotal=stationtotal[stationtotal['C/A']!='N090']\n",
    "stationtotal"
   ]
  },
  {
   "cell_type": "markdown",
   "metadata": {},
   "source": [
    "Plot total entries for highest travelled stations:"
   ]
  },
  {
   "cell_type": "code",
   "execution_count": 148,
   "metadata": {
    "collapsed": false
   },
   "outputs": [
    {
     "data": {
      "text/plain": [
       "(array([ 0,  1,  2,  3,  4,  5,  6,  7,  8,  9, 10, 11, 12, 13, 14]),\n",
       " <a list of 15 Text xticklabel objects>)"
      ]
     },
     "execution_count": 148,
     "metadata": {},
     "output_type": "execute_result"
    },
    {
     "data": {
      "image/png": "[encoded data removed]",
      "text/plain": [
       "<matplotlib.figure.Figure at 0x162e4f090>"
      ]
     },
     "metadata": {},
     "output_type": "display_data"
    }
   ],
   "source": [
    "plt.figure(figsize=(9,8))\n",
    "seaborn.barplot(stationtotal['STATION'],stationtotal['ENTRIES'])\n",
    "plt.title('Most travelled stations in April-May 2015',fontsize=20)\n",
    "plt.ylabel('ENTRIES',weight='bold')\n",
    "plt.xlabel('STATION',weight='bold')\n",
    "plt.xticks(rotation=45,fontsize=9,weight='bold')"
   ]
  },
  {
   "cell_type": "code",
   "execution_count": null,
   "metadata": {
    "collapsed": true
   },
   "outputs": [],
   "source": []
  }
 ],
 "metadata": {
  "kernelspec": {
   "display_name": "Python 2",
   "language": "python",
   "name": "python2"
  },
  "language_info": {
   "codemirror_mode": {
    "name": "ipython",
    "version": 2
   },
   "file_extension": ".py",
   "mimetype": "text/x-python",
   "name": "python",
   "nbconvert_exporter": "python",
   "pygments_lexer": "ipython2",
   "version": "2.7.11"
  }
 },
 "nbformat": 4,
 "nbformat_minor": 0
}
