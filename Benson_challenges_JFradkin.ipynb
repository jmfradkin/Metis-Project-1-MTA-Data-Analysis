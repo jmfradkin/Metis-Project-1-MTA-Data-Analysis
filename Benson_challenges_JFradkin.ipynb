{
 "cells": [
  {
   "cell_type": "markdown",
   "metadata": {},
   "source": [
    "# Challenge Set 1"
   ]
  },
  {
   "cell_type": "markdown",
   "metadata": {},
   "source": [
    "Topic: Explore MTA turnstile data  \n",
    "Date: 01/25/2016  \n",
    "Name: Jamie Fradkin  \n",
    "Worked with: N/A  "
   ]
  },
  {
   "cell_type": "code",
   "execution_count": 295,
   "metadata": {
    "collapsed": true
   },
   "outputs": [],
   "source": [
    "import csv\n",
    "import dateutil.parser\n",
    "import datetime\n",
    "from pprint import pprint\n",
    "import matplotlib.pyplot as plt\n",
    "from collections import defaultdict"
   ]
  },
  {
   "cell_type": "markdown",
   "metadata": {},
   "source": [
    "Reading files for 4 weeks of turnstile data:  \n",
    "**NOTE:** Only the first 100,000 lines of each file were processed in order to expedite execution\n"
   ]
  },
  {
   "cell_type": "code",
   "execution_count": 296,
   "metadata": {
    "collapsed": false
   },
   "outputs": [],
   "source": [
    "c_orig=csv.reader(open(\"turnstile_150411_new.txt\",\"rb\"))\n",
    "c_orig=[[word.strip() for word in row] for row in c_orig]\n",
    "c=c_orig[1:100000]\n",
    "\n",
    "c2_orig=csv.reader(open(\"turnstile_150418_new.txt\",\"rb\"))\n",
    "c2_orig=[[word.strip() for word in row] for row in c2_orig]\n",
    "c2=c2_orig[1:100000]\n",
    "\n",
    "c3_orig=csv.reader(open(\"turnstile_150425_new.txt\",\"rb\"))\n",
    "c3_orig=[[word.strip() for word in row] for row in c3_orig]\n",
    "c3=c3_orig[1:100000]\n",
    "\n",
    "c4_orig=csv.reader(open(\"turnstile_150502_new.txt\",\"rb\"))\n",
    "c4_orig=[[word.strip() for word in row] for row in c4_orig]\n",
    "c4=c4_orig[1:100000]"
   ]
  },
  {
   "cell_type": "markdown",
   "metadata": {},
   "source": [
    "# Challenge 1"
   ]
  },
  {
   "cell_type": "markdown",
   "metadata": {},
   "source": [
    "Make a python dict where there is a key for each (C/A, UNIT, SCP, STATION). These are the first four columns. The value for this key should be a list of lists. Each list in the list is the rest of the columns in a row. "
   ]
  },
  {
   "cell_type": "code",
   "execution_count": 305,
   "metadata": {
    "collapsed": false
   },
   "outputs": [],
   "source": [
    "def create_dict(file1):\n",
    "    dict1=defaultdict(list)\n",
    "    for row in file1:\n",
    "        dict1_key=(row[0],row[1],row[2],row[3]) #establishing key as first 4 columns\n",
    "        dict1_value=[row[4],row[5],row[6],row[7],row[8],row[9],row[10]] #establishing value as remaining columns\n",
    "        dict1[dict1_key]=dict1_value\n",
    "    return dict1"
   ]
  },
  {
   "cell_type": "markdown",
   "metadata": {},
   "source": [
    "Printing first 5 key/value pairs in dictionary:"
   ]
  },
  {
   "cell_type": "code",
   "execution_count": 307,
   "metadata": {
    "collapsed": false
   },
   "outputs": [
    {
     "name": "stdout",
     "output_type": "stream",
     "text": [
      "{('A013', 'R081', '01-03-00', '49 ST-7 AVE'): ['NQR',\n",
      "                                               'BMT',\n",
      "                                               '04/10/2015',\n",
      "                                               '20:00:00',\n",
      "                                               'REGULAR',\n",
      "                                               '0002872034',\n",
      "                                               '0003309756'],\n",
      " ('A030', 'R083', '01-06-00', '23 ST-5 AVE'): ['NR',\n",
      "                                               'BMT',\n",
      "                                               '04/10/2015',\n",
      "                                               '20:00:00',\n",
      "                                               'REGULAR',\n",
      "                                               '0005795618',\n",
      "                                               '0003233286'],\n",
      " ('B014', 'R148', '00-00-01', 'PARKSIDE AVE'): ['BQ',\n",
      "                                                'BMT',\n",
      "                                                '04/10/2015',\n",
      "                                                '21:00:00',\n",
      "                                                'REGULAR',\n",
      "                                                '0012452594',\n",
      "                                                '0007885851'],\n",
      " ('B016', 'R098', '00-00-01', 'CHURCH AVE'): ['BQ',\n",
      "                                              'BMT',\n",
      "                                              '04/10/2015',\n",
      "                                              '20:00:00',\n",
      "                                              'REGULAR',\n",
      "                                              '0000622152',\n",
      "                                              '0001361113'],\n",
      " ('N134', 'R385', '00-00-00', 'ROCKAWAY BLVD'): ['A',\n",
      "                                                 'IND',\n",
      "                                                 '04/10/2015',\n",
      "                                                 '21:00:00',\n",
      "                                                 'REGULAR',\n",
      "                                                 '0006904179',\n",
      "                                                 '0002831623']}\n"
     ]
    }
   ],
   "source": [
    "pprint ({k: create_dict(c)[k] for k in create_dict(c).keys()[:5]})"
   ]
  },
  {
   "cell_type": "markdown",
   "metadata": {},
   "source": [
    "# Challenge 2"
   ]
  },
  {
   "cell_type": "markdown",
   "metadata": {},
   "source": [
    "Let's turn this into a time series.\n",
    "\n",
    "For each key (basically the control area, unit, device address and station of a specific turnstile), have a list again, but let the list be comprised of just the point in time and the count of entries."
   ]
  },
  {
   "cell_type": "code",
   "execution_count": 308,
   "metadata": {
    "collapsed": true
   },
   "outputs": [],
   "source": [
    "def time_series(file1):\n",
    "    dict2=defaultdict(list)\n",
    "    for row in file1:\n",
    "        dict2_key=(row[0],row[1],row[2],row[3]) # key is first 4 columns\n",
    "        datetime_string=row[6]+' '+row[7] # combining date and time into string to be parsed\n",
    "        entries=int(row[9])\n",
    "        dict2_value=[dateutil.parser.parse(datetime_string),entries] #value will be list of [date,entries]\n",
    "        dict2[dict2_key]=dict2_value\n",
    "    return dict2"
   ]
  },
  {
   "cell_type": "markdown",
   "metadata": {},
   "source": [
    "Printing first 5 key/value pairs in dictionary:"
   ]
  },
  {
   "cell_type": "code",
   "execution_count": 309,
   "metadata": {
    "collapsed": false
   },
   "outputs": [
    {
     "name": "stdout",
     "output_type": "stream",
     "text": [
      "{('A013', 'R081', '01-03-00', '49 ST-7 AVE'): [datetime.datetime(2015, 4, 10, 20, 0),\n",
      "                                               2872034],\n",
      " ('A030', 'R083', '01-06-00', '23 ST-5 AVE'): [datetime.datetime(2015, 4, 10, 20, 0),\n",
      "                                               5795618],\n",
      " ('B014', 'R148', '00-00-01', 'PARKSIDE AVE'): [datetime.datetime(2015, 4, 10, 21, 0),\n",
      "                                                12452594],\n",
      " ('B016', 'R098', '00-00-01', 'CHURCH AVE'): [datetime.datetime(2015, 4, 10, 20, 0),\n",
      "                                              622152],\n",
      " ('N134', 'R385', '00-00-00', 'ROCKAWAY BLVD'): [datetime.datetime(2015, 4, 10, 21, 0),\n",
      "                                                 6904179]}\n"
     ]
    }
   ],
   "source": [
    "pprint ({k: time_series(c)[k] for k in time_series(c).keys()[:5]})"
   ]
  },
  {
   "cell_type": "markdown",
   "metadata": {},
   "source": [
    "# Challenge 3"
   ]
  },
  {
   "cell_type": "markdown",
   "metadata": {},
   "source": [
    "We want total daily entries, which is the total number of passengers that entered through this turnstile on this day."
   ]
  },
  {
   "cell_type": "code",
   "execution_count": 312,
   "metadata": {
    "collapsed": false
   },
   "outputs": [],
   "source": [
    "def daily_entries(file1):\n",
    "    dict3=defaultdict(list)\n",
    "    temp_dict=defaultdict(list)\n",
    "    for row in file1:\n",
    "        #temporarily setting key to include first 4 columns AND date\n",
    "        temp_key=(row[0],row[1],row[2],row[3],dateutil.parser.parse(row[6])) \n",
    "        entries=int(row[9])\n",
    "        temp_value=[entries]\n",
    "        temp_dict[temp_key].append(entries)\n",
    "    for k,v in temp_dict.items():\n",
    "        delta=max(v)-min(v)\n",
    "        dict3_key=k[0:4]\n",
    "        dict3_value=(k[4],delta)\n",
    "        dict3[dict3_key].append(dict3_value)\n",
    "    return dict3"
   ]
  },
  {
   "cell_type": "markdown",
   "metadata": {},
   "source": [
    "Printing first 5 key:value pairs in dictionary"
   ]
  },
  {
   "cell_type": "code",
   "execution_count": 313,
   "metadata": {
    "collapsed": false
   },
   "outputs": [
    {
     "name": "stdout",
     "output_type": "stream",
     "text": [
      "{('A013', 'R081', '01-03-00', '49 ST-7 AVE'): [(datetime.datetime(2015, 4, 4, 0, 0),\n",
      "                                                525),\n",
      "                                               (datetime.datetime(2015, 4, 10, 0, 0),\n",
      "                                                2002),\n",
      "                                               (datetime.datetime(2015, 4, 5, 0, 0),\n",
      "                                                299),\n",
      "                                               (datetime.datetime(2015, 4, 9, 0, 0),\n",
      "                                                2045),\n",
      "                                               (datetime.datetime(2015, 4, 7, 0, 0),\n",
      "                                                1918),\n",
      "                                               (datetime.datetime(2015, 4, 8, 0, 0),\n",
      "                                                1954),\n",
      "                                               (datetime.datetime(2015, 4, 6, 0, 0),\n",
      "                                                1740)],\n",
      " ('A030', 'R083', '01-06-00', '23 ST-5 AVE'): [(datetime.datetime(2015, 4, 8, 0, 0),\n",
      "                                                2203),\n",
      "                                               (datetime.datetime(2015, 4, 7, 0, 0),\n",
      "                                                1908),\n",
      "                                               (datetime.datetime(2015, 4, 5, 0, 0),\n",
      "                                                327),\n",
      "                                               (datetime.datetime(2015, 4, 10, 0, 0),\n",
      "                                                2011),\n",
      "                                               (datetime.datetime(2015, 4, 6, 0, 0),\n",
      "                                                1627),\n",
      "                                               (datetime.datetime(2015, 4, 9, 0, 0),\n",
      "                                                2118),\n",
      "                                               (datetime.datetime(2015, 4, 4, 0, 0),\n",
      "                                                731)],\n",
      " ('B014', 'R148', '00-00-01', 'PARKSIDE AVE'): [(datetime.datetime(2015, 4, 4, 0, 0),\n",
      "                                                 1660),\n",
      "                                                (datetime.datetime(2015, 4, 6, 0, 0),\n",
      "                                                 1906),\n",
      "                                                (datetime.datetime(2015, 4, 5, 0, 0),\n",
      "                                                 1097),\n",
      "                                                (datetime.datetime(2015, 4, 8, 0, 0),\n",
      "                                                 1654),\n",
      "                                                (datetime.datetime(2015, 4, 10, 0, 0),\n",
      "                                                 1692),\n",
      "                                                (datetime.datetime(2015, 4, 9, 0, 0),\n",
      "                                                 1753),\n",
      "                                                (datetime.datetime(2015, 4, 7, 0, 0),\n",
      "                                                 1862)],\n",
      " ('B016', 'R098', '00-00-01', 'CHURCH AVE'): [(datetime.datetime(2015, 4, 9, 0, 0),\n",
      "                                               1069),\n",
      "                                              (datetime.datetime(2015, 4, 5, 0, 0),\n",
      "                                               630),\n",
      "                                              (datetime.datetime(2015, 4, 7, 0, 0),\n",
      "                                               1036),\n",
      "                                              (datetime.datetime(2015, 4, 4, 0, 0),\n",
      "                                               777),\n",
      "                                              (datetime.datetime(2015, 4, 6, 0, 0),\n",
      "                                               949),\n",
      "                                              (datetime.datetime(2015, 4, 10, 0, 0),\n",
      "                                               1017),\n",
      "                                              (datetime.datetime(2015, 4, 8, 0, 0),\n",
      "                                               1065)],\n",
      " ('N134', 'R385', '00-00-00', 'ROCKAWAY BLVD'): [(datetime.datetime(2015, 4, 4, 0, 0),\n",
      "                                                  1150),\n",
      "                                                 (datetime.datetime(2015, 4, 6, 0, 0),\n",
      "                                                  1922),\n",
      "                                                 (datetime.datetime(2015, 4, 8, 0, 0),\n",
      "                                                  2003),\n",
      "                                                 (datetime.datetime(2015, 4, 10, 0, 0),\n",
      "                                                  1988),\n",
      "                                                 (datetime.datetime(2015, 4, 5, 0, 0),\n",
      "                                                  767),\n",
      "                                                 (datetime.datetime(2015, 4, 9, 0, 0),\n",
      "                                                  2041),\n",
      "                                                 (datetime.datetime(2015, 4, 7, 0, 0),\n",
      "                                                  1987)]}\n"
     ]
    }
   ],
   "source": [
    "pprint({k: dict(daily_entries(c))[k] for k in dict(daily_entries(c)).keys()[:5]})"
   ]
  },
  {
   "cell_type": "markdown",
   "metadata": {},
   "source": [
    "# Challenge 4"
   ]
  },
  {
   "cell_type": "markdown",
   "metadata": {},
   "source": [
    "Plot the daily time series for a turnstile."
   ]
  },
  {
   "cell_type": "code",
   "execution_count": 314,
   "metadata": {
    "collapsed": false
   },
   "outputs": [
    {
     "data": {
      "text/plain": [
       "<matplotlib.text.Text at 0x10e59cd90>"
      ]
     },
     "execution_count": 314,
     "metadata": {},
     "output_type": "execute_result"
    },
    {
     "data": {
      "image/png": "[encoded data removed]",
      "text/plain": [
       "<matplotlib.figure.Figure at 0x10ccb6090>"
      ]
     },
     "metadata": {},
     "output_type": "display_data"
    }
   ],
   "source": [
    "%matplotlib inline\n",
    "\n",
    "dict4=daily_entries(c) #reproducing dictionary from daily_entries()\n",
    "dates=[]\n",
    "counts=[]\n",
    "firstpair = {k: dict4[k] for k in dict4.keys()[:1]} #isolating one turnstile\n",
    "for tup in firstpair.values():\n",
    "    for date,count in tup:\n",
    "        dates.append(date) #bring dates from dictionary into new list\n",
    "        counts.append(count) #bring counts from dictionary into corresponding list\n",
    "plt.figure(figsize=(10,3))\n",
    "plt.plot(dates,counts,'ro')\n",
    "plt.title('Time series for turnstile {}'.format(firstpair.keys()))\n",
    "plt.xlabel('Date')\n",
    "plt.ylabel('Entries per day')"
   ]
  },
  {
   "cell_type": "markdown",
   "metadata": {},
   "source": [
    "# Challenge 5"
   ]
  },
  {
   "cell_type": "markdown",
   "metadata": {},
   "source": [
    "We want to combine the numbers together -- for each ControlArea/UNIT/STATION combo, for each day, add the counts from each turnstile belonging to that combo."
   ]
  },
  {
   "cell_type": "code",
   "execution_count": 315,
   "metadata": {
    "collapsed": false
   },
   "outputs": [],
   "source": [
    "def combine_SCP(file1):\n",
    "    dict3=daily_entries(file1) #reproducing dictionary from daily_entries()\n",
    "    temp_dict=defaultdict(list)\n",
    "    \n",
    "    for key,value in dict3.items():\n",
    "        for date,count in value:\n",
    "            #temporarily setting key value to include first C/A, Unit, Station AND date to align correctly with entries\n",
    "            temp_key=(key[0],key[1],key[3],date) \n",
    "            temp_value=(count)\n",
    "            temp_dict[temp_key].append(temp_value)\n",
    "\n",
    "    dict5=defaultdict(list)\n",
    "    for key,value in temp_dict.items():\n",
    "        dict5_key=(key[0],key[1],key[2]) #resetting key to have only C/A, Unit, Station\n",
    "        dict5[dict5_key].append((key[3],sum(value))) #value becomes (date, entry sum)\n",
    "    return dict5"
   ]
  },
  {
   "cell_type": "markdown",
   "metadata": {},
   "source": [
    "Printing first 5 key:value pairs of dictionary:"
   ]
  },
  {
   "cell_type": "code",
   "execution_count": 316,
   "metadata": {
    "collapsed": false
   },
   "outputs": [
    {
     "name": "stdout",
     "output_type": "stream",
     "text": [
      "{('B013', 'R196', 'PROSPECT PARK'): [(datetime.datetime(2015, 4, 10, 0, 0),\n",
      "                                      5490),\n",
      "                                     (datetime.datetime(2015, 4, 7, 0, 0),\n",
      "                                      5235),\n",
      "                                     (datetime.datetime(2015, 4, 4, 0, 0),\n",
      "                                      3801),\n",
      "                                     (datetime.datetime(2015, 4, 9, 0, 0),\n",
      "                                      5632),\n",
      "                                     (datetime.datetime(2015, 4, 8, 0, 0),\n",
      "                                      5574),\n",
      "                                     (datetime.datetime(2015, 4, 5, 0, 0),\n",
      "                                      2921),\n",
      "                                     (datetime.datetime(2015, 4, 6, 0, 0),\n",
      "                                      5240)],\n",
      " ('D012', 'R395', 'KINGS HIGHWAY'): [(datetime.datetime(2015, 4, 7, 0, 0),\n",
      "                                      5010),\n",
      "                                     (datetime.datetime(2015, 4, 9, 0, 0),\n",
      "                                      5012),\n",
      "                                     (datetime.datetime(2015, 4, 4, 0, 0),\n",
      "                                      3663),\n",
      "                                     (datetime.datetime(2015, 4, 10, 0, 0),\n",
      "                                      4907),\n",
      "                                     (datetime.datetime(2015, 4, 5, 0, 0),\n",
      "                                      3008),\n",
      "                                     (datetime.datetime(2015, 4, 8, 0, 0),\n",
      "                                      5153),\n",
      "                                     (datetime.datetime(2015, 4, 6, 0, 0),\n",
      "                                      4935)],\n",
      " ('H030', 'R266', 'HALSEY ST'): [(datetime.datetime(2015, 4, 9, 0, 0), 851),\n",
      "                                 (datetime.datetime(2015, 4, 10, 0, 0), 826),\n",
      "                                 (datetime.datetime(2015, 4, 4, 0, 0), 637),\n",
      "                                 (datetime.datetime(2015, 4, 7, 0, 0), 809),\n",
      "                                 (datetime.datetime(2015, 4, 6, 0, 0), 755),\n",
      "                                 (datetime.datetime(2015, 4, 8, 0, 0), 796),\n",
      "                                 (datetime.datetime(2015, 4, 5, 0, 0), 447)],\n",
      " ('N022', 'R332', '135 ST'): [(datetime.datetime(2015, 4, 7, 0, 0), 1477),\n",
      "                              (datetime.datetime(2015, 4, 8, 0, 0), 1621),\n",
      "                              (datetime.datetime(2015, 4, 9, 0, 0), 1630),\n",
      "                              (datetime.datetime(2015, 4, 10, 0, 0), 1608),\n",
      "                              (datetime.datetime(2015, 4, 5, 0, 0), 745),\n",
      "                              (datetime.datetime(2015, 4, 4, 0, 0), 900),\n",
      "                              (datetime.datetime(2015, 4, 6, 0, 0), 1491)],\n",
      " ('N325A', 'R218', 'ELMHURST AVE'): [(datetime.datetime(2015, 4, 5, 0, 0),\n",
      "                                      7126),\n",
      "                                     (datetime.datetime(2015, 4, 4, 0, 0),\n",
      "                                      8680),\n",
      "                                     (datetime.datetime(2015, 4, 8, 0, 0),\n",
      "                                      12541),\n",
      "                                     (datetime.datetime(2015, 4, 7, 0, 0),\n",
      "                                      12437),\n",
      "                                     (datetime.datetime(2015, 4, 6, 0, 0),\n",
      "                                      12584),\n",
      "                                     (datetime.datetime(2015, 4, 10, 0, 0),\n",
      "                                      12331),\n",
      "                                     (datetime.datetime(2015, 4, 9, 0, 0),\n",
      "                                      12257)]}\n"
     ]
    }
   ],
   "source": [
    "pprint({k: dict(combine_SCP(c))[k] for k in dict(combine_SCP(c)).keys()[:5]})"
   ]
  },
  {
   "cell_type": "markdown",
   "metadata": {},
   "source": [
    "# Challenge 6"
   ]
  },
  {
   "cell_type": "markdown",
   "metadata": {},
   "source": [
    "Similarly, combine everything in each station, and come up with a time series of [(date1, count1),(date2,count2),...] type of time series for each STATION, by adding up all the turnstiles in a station.\n",
    "\n"
   ]
  },
  {
   "cell_type": "code",
   "execution_count": 317,
   "metadata": {
    "collapsed": false
   },
   "outputs": [],
   "source": [
    "def station_total(file1):\n",
    "    dict5=combine_SCP(file1) #reproducing dictionary from combine_SCP()\n",
    "    temp_dict=defaultdict(list)\n",
    "\n",
    "    for key,value in dict5.items():\n",
    "        for date,count in value:\n",
    "            temp_key=(key[2],date) #temporarily adding date to key to align with entries\n",
    "            temp_value=(count)\n",
    "            temp_dict[temp_key].append(temp_value)\n",
    "\n",
    "    dict6=defaultdict(list)\n",
    "    for key,value in temp_dict.items():\n",
    "        dict6_key=(key[0]) #resetting key to be station only\n",
    "        dict6[dict6_key].append((key[1],sum(value))) #value becomes (date, entry sum)\n",
    "    return dict6"
   ]
  },
  {
   "cell_type": "markdown",
   "metadata": {},
   "source": [
    "Printing first 5 key:value pairs in dictionary:"
   ]
  },
  {
   "cell_type": "code",
   "execution_count": 318,
   "metadata": {
    "collapsed": false
   },
   "outputs": [
    {
     "name": "stdout",
     "output_type": "stream",
     "text": [
      "{'46 ST': [(datetime.datetime(2015, 4, 6, 0, 0), 8294),\n",
      "           (datetime.datetime(2015, 4, 7, 0, 0), 8539),\n",
      "           (datetime.datetime(2015, 4, 10, 0, 0), 8541),\n",
      "           (datetime.datetime(2015, 4, 4, 0, 0), 5458),\n",
      "           (datetime.datetime(2015, 4, 5, 0, 0), 4051),\n",
      "           (datetime.datetime(2015, 4, 8, 0, 0), 8485),\n",
      "           (datetime.datetime(2015, 4, 9, 0, 0), 8682)],\n",
      " 'BAY PKY-22 AVE': [(datetime.datetime(2015, 4, 7, 0, 0), 6823),\n",
      "                    (datetime.datetime(2015, 4, 5, 0, 0), 5237),\n",
      "                    (datetime.datetime(2015, 4, 10, 0, 0), 6717),\n",
      "                    (datetime.datetime(2015, 4, 4, 0, 0), 6288),\n",
      "                    (datetime.datetime(2015, 4, 6, 0, 0), 6758),\n",
      "                    (datetime.datetime(2015, 4, 9, 0, 0), 6649),\n",
      "                    (datetime.datetime(2015, 4, 8, 0, 0), 6805)],\n",
      " 'BEACH 67 ST': [(datetime.datetime(2015, 4, 7, 0, 0), 2011),\n",
      "                 (datetime.datetime(2015, 4, 10, 0, 0), 1973),\n",
      "                 (datetime.datetime(2015, 4, 5, 0, 0), 1097),\n",
      "                 (datetime.datetime(2015, 4, 8, 0, 0), 2084),\n",
      "                 (datetime.datetime(2015, 4, 6, 0, 0), 2060),\n",
      "                 (datetime.datetime(2015, 4, 9, 0, 0), 2041),\n",
      "                 (datetime.datetime(2015, 4, 4, 0, 0), 1311)],\n",
      " 'BROAD CHANNEL': [(datetime.datetime(2015, 4, 6, 0, 0), 295),\n",
      "                   (datetime.datetime(2015, 4, 9, 0, 0), 281),\n",
      "                   (datetime.datetime(2015, 4, 7, 0, 0), 271),\n",
      "                   (datetime.datetime(2015, 4, 8, 0, 0), 310),\n",
      "                   (datetime.datetime(2015, 4, 4, 0, 0), 130),\n",
      "                   (datetime.datetime(2015, 4, 5, 0, 0), 66),\n",
      "                   (datetime.datetime(2015, 4, 10, 0, 0), 280)],\n",
      " 'LEXINGTON-53 ST': [(datetime.datetime(2015, 4, 5, 0, 0), 11161),\n",
      "                     (datetime.datetime(2015, 4, 9, 0, 0), 42110),\n",
      "                     (datetime.datetime(2015, 4, 4, 0, 0), 15383),\n",
      "                     (datetime.datetime(2015, 4, 7, 0, 0), 41941),\n",
      "                     (datetime.datetime(2015, 4, 6, 0, 0), 37866),\n",
      "                     (datetime.datetime(2015, 4, 10, 0, 0), 39826),\n",
      "                     (datetime.datetime(2015, 4, 8, 0, 0), 41123)]}\n"
     ]
    }
   ],
   "source": [
    "pprint({k: dict(station_total(c))[k] for k in dict(station_total(c)).keys()[:5]})"
   ]
  },
  {
   "cell_type": "markdown",
   "metadata": {
    "collapsed": true
   },
   "source": [
    "# Challenge 7"
   ]
  },
  {
   "cell_type": "markdown",
   "metadata": {},
   "source": [
    "Plot the time series for a station."
   ]
  },
  {
   "cell_type": "code",
   "execution_count": 319,
   "metadata": {
    "collapsed": false
   },
   "outputs": [
    {
     "data": {
      "text/plain": [
       "<matplotlib.text.Text at 0x12f92a650>"
      ]
     },
     "execution_count": 319,
     "metadata": {},
     "output_type": "execute_result"
    },
    {
     "data": {
      "image/png": "[encoded data removed]",
      "text/plain": [
       "<matplotlib.figure.Figure at 0x10d8cba10>"
      ]
     },
     "metadata": {},
     "output_type": "display_data"
    }
   ],
   "source": [
    "dict7=station_total(c) #reproducing dictionary from station_total\n",
    "dates=[]\n",
    "counts=[]\n",
    "firstpair = {k: dict7[k] for k in dict7.keys()[:1]} #isolating one station key:value pair\n",
    "for tup in firstpair.values():\n",
    "    for date,count in tup:\n",
    "        dates.append(date) #bring dates from dictionary into new list\n",
    "        counts.append(count) #bring counts from dictionary into corresponding list\n",
    "        \n",
    "plt.figure(figsize=(10,3))\n",
    "plt.plot(dates,counts,'ro')\n",
    "plt.title('Time series for station {}'.format(firstpair.keys()))\n",
    "plt.xlabel('Date')\n",
    "plt.ylabel('Entries per day')"
   ]
  },
  {
   "cell_type": "markdown",
   "metadata": {},
   "source": [
    "# Challenge 8"
   ]
  },
  {
   "cell_type": "markdown",
   "metadata": {},
   "source": [
    "Plot weekly commute numbers for one station."
   ]
  },
  {
   "cell_type": "code",
   "execution_count": 321,
   "metadata": {
    "collapsed": false
   },
   "outputs": [
    {
     "data": {
      "text/plain": [
       "([<matplotlib.axis.XTick at 0x12854d410>,\n",
       "  <matplotlib.axis.XTick at 0x12854d590>,\n",
       "  <matplotlib.axis.XTick at 0x11fa47150>,\n",
       "  <matplotlib.axis.XTick at 0x11fa3b350>,\n",
       "  <matplotlib.axis.XTick at 0x11fa3ba90>,\n",
       "  <matplotlib.axis.XTick at 0x11fa40210>,\n",
       "  <matplotlib.axis.XTick at 0x11fa40950>],\n",
       " <a list of 7 Text xticklabel objects>)"
      ]
     },
     "execution_count": 321,
     "metadata": {},
     "output_type": "execute_result"
    },
    {
     "data": {
      "image/png": "[encoded data removed]",
      "text/plain": [
       "<matplotlib.figure.Figure at 0x12835c910>"
      ]
     },
     "metadata": {},
     "output_type": "display_data"
    }
   ],
   "source": [
    "week_count_list=[]\n",
    "\n",
    "#create key:value pairs for the same station in 4 different weeks\n",
    "week1_pair = {k: station_total(c)[k] for k in station_total(c).keys()[:1]}\n",
    "week1_pair_key = week1_pair.keys()\n",
    "week2_pair = {week1_pair_key: station_total(c2)[week1_pair_key] for week1_pair_key in station_total(c2).keys()[:1]}\n",
    "week3_pair = {week1_pair_key: station_total(c3)[week1_pair_key] for week1_pair_key in station_total(c3).keys()[:1]}\n",
    "week4_pair = {week1_pair_key: station_total(c4)[week1_pair_key] for week1_pair_key in station_total(c4).keys()[:1]}\n",
    "\n",
    "for pair in week1_pair,week2_pair,week3_pair,week4_pair:\n",
    "    temp_dict=defaultdict(list)\n",
    "    for tup in pair.values():\n",
    "        for date,count in tup:\n",
    "            temp_dict[date]=count #creating a dictionary of {date:count} for each week\n",
    "    for key in sorted(temp_dict):\n",
    "        week_count_list.append(temp_dict[key]) #bring counts to large \"week_count_list\"\n",
    "\n",
    "#break up week_count_list into 4 separate weeks:\n",
    "week_count_list1=week_count_list[:7]\n",
    "week_count_list2=week_count_list[7:14]\n",
    "week_count_list3=week_count_list[14:21]\n",
    "week_count_list4=week_count_list[21:]\n",
    "    \n",
    "plt.figure(figsize=(10,5))\n",
    "plt.plot(week_count_list1,'ro', label='4/11/15')\n",
    "plt.plot(week_count_list2,'bo',label='4/18/15')\n",
    "plt.plot(week_count_list3,'yo',label='4/25/15')\n",
    "plt.plot(week_count_list4,'go',label='5/2/15')\n",
    "plt.title('Weekly entries for station {}'.format(week1_pair.keys()))\n",
    "plt.xlabel('Day')\n",
    "plt.ylabel('Entries per day')\n",
    "plt.legend(loc=2,prop={'size':8})\n",
    "\n",
    "x = [0,1,2,3,4,5,6]\n",
    "days = ['Sat','Sun','Mon','Tue','Wed','Thu','Fri']\n",
    "plt.xticks(x, days, rotation=45)"
   ]
  },
  {
   "cell_type": "markdown",
   "metadata": {},
   "source": [
    "# Challenge 9\n"
   ]
  },
  {
   "cell_type": "markdown",
   "metadata": {},
   "source": [
    "Over multiple weeks, sum total ridership for each station and sort them, so you can find out the stations with the highest traffic during the time you investigate"
   ]
  },
  {
   "cell_type": "code",
   "execution_count": 322,
   "metadata": {
    "collapsed": false
   },
   "outputs": [],
   "source": [
    "super_dict=defaultdict(list)\n",
    "dicts=[station_total(c),station_total(c2),station_total(c3),station_total(c4)]\n",
    "\n",
    "#creating a large dictionary with the (date, entry) tuples for all weeks combined\n",
    "for d in dicts:\n",
    "    for k, v in d.iteritems():\n",
    "        for tup in v:\n",
    "            super_dict[k].append(tup) \n",
    "\n",
    "total_dict=defaultdict(list)\n",
    "\n",
    "for k,v in super_dict.items():\n",
    "    for tup in v:\n",
    "        #creating a dictionary with station:entry pairs, still separated by day\n",
    "        total_dict[k].append(tup[1]) \n",
    "        \n",
    "for k,v in total_dict.items():\n",
    "    #updating dictionary so values are sum of entries for the week\n",
    "    total_dict[k]=sum(v)\n",
    "\n",
    "#sorting in order of total entries\n",
    "sorted_pairs=(sorted(total_dict.items(), key=lambda x: x[1]))"
   ]
  },
  {
   "cell_type": "markdown",
   "metadata": {},
   "source": [
    "Printing stations sorted by number of entries:"
   ]
  },
  {
   "cell_type": "code",
   "execution_count": 323,
   "metadata": {
    "collapsed": false
   },
   "outputs": [
    {
     "name": "stdout",
     "output_type": "stream",
     "text": [
      "[('BEACH 105 ST', 6346),\n",
      " ('BROAD CHANNEL', 7537),\n",
      " ('SMITH-9 ST', 12014),\n",
      " ('BEACH 98 ST', 12388),\n",
      " ('BEACH 44 ST', 14540),\n",
      " ('ROCKAWAY PK 116', 16089),\n",
      " ('BEACH 90 ST', 20219),\n",
      " ('BEACH 36 ST', 21498),\n",
      " ('AQUEDUCT-N CNDT', 27297),\n",
      " ('CYPRESS HILLS', 34725),\n",
      " ('OXFORD-104 ST', 36346),\n",
      " ('VAN ALSTON-21ST', 36421),\n",
      " ('ATLANTIC AVE', 41117),\n",
      " ('55 ST', 41605),\n",
      " ('BUSHWICK AVE', 42528),\n",
      " ('AQUEDUCT TRACK', 43074),\n",
      " ('BEACH 25 ST', 43085),\n",
      " ('PARK PLACE', 44954),\n",
      " ('BOTANIC GARDEN', 45580),\n",
      " ('BOROUGH HALL/CT', 50590),\n",
      " ('HOWARD BCH-JFK', 52742),\n",
      " ('W 8 ST-AQUARIUM', 54179),\n",
      " ('BEACH 67 ST', 54630),\n",
      " ('121 ST', 57171),\n",
      " ('ALABAMA AVE', 59362),\n",
      " ('BEACH 60 ST', 59555),\n",
      " ('GREENWOOD-111', 60373),\n",
      " ('JFK HOWARD BCH', 61430),\n",
      " ('111 ST', 61874),\n",
      " ('104 ST', 63278),\n",
      " ('BEVERLEY ROAD', 63708),\n",
      " ('LIBERTY AVE', 63740),\n",
      " ('BAY 50 ST', 64587),\n",
      " ('BOYD-88 ST', 65794),\n",
      " ('AVE H', 66524),\n",
      " ('SENECA AVE', 68182),\n",
      " ('OCEAN PARKWAY', 74011),\n",
      " ('BOWERY', 74226),\n",
      " ('CHAUNCEY ST', 74939),\n",
      " ('HEWES ST', 75504),\n",
      " ('LIVONIA AVE', 77402),\n",
      " ('SHEPHERD AVE', 79247),\n",
      " ('CLEVELAND ST', 84934),\n",
      " ('NORWOOD AVE', 85678),\n",
      " ('75 AVE', 85832),\n",
      " ('ELDERTS LANE', 89641),\n",
      " ('EAST 105 ST', 89818),\n",
      " ('CENTRAL AVE', 90121),\n",
      " ('65 ST', 90474),\n",
      " ('25 ST', 91398),\n",
      " ('FOREST PARKWAY', 94105),\n",
      " ('BROADWAY', 96004),\n",
      " ('71 ST', 96077),\n",
      " ('NECK ROAD', 98625),\n",
      " ('KNICKERBOCKER', 102612),\n",
      " ('FOREST AVE', 102771),\n",
      " ('WILSON AVE', 105783),\n",
      " ('25 AVE', 107366),\n",
      " ('VAN WYCK BLVD', 109759),\n",
      " ('SUTTER AVE', 111543),\n",
      " ('LAFAYETTE AVE', 112952),\n",
      " ('CLASSON AVE', 115088),\n",
      " ('SUTPHIN BLVD', 115668),\n",
      " ('103 ST', 116643),\n",
      " ('KOSCIUSZKO ST', 117457),\n",
      " ('190 ST', 118232),\n",
      " ('3 AVE', 120119),\n",
      " ('182-183 ST', 120174),\n",
      " ('6 AVE', 120613),\n",
      " ('NEW LOTS AVE', 121118),\n",
      " ('174-175 ST', 121914),\n",
      " ('HUDSON-80 ST', 122140),\n",
      " ('PARKSIDE AVE', 123061),\n",
      " ('CRESCENT ST', 123806),\n",
      " ('ROCKAWAY AVE', 126854),\n",
      " ('135 ST', 129251),\n",
      " ('163 ST-AMSTERDM', 130450),\n",
      " ('77 ST', 132401),\n",
      " ('CITY HALL', 132712),\n",
      " ('AVE M', 133360),\n",
      " ('PROSPECT AVE', 133582),\n",
      " ('RECTOR ST', 134324),\n",
      " ('BROAD ST', 134577),\n",
      " ('9 AVE', 135715),\n",
      " ('MYRTLE-WILLOUGH', 138325),\n",
      " ('RALPH AVE', 138661),\n",
      " ('FRESH POND ROAD', 139661),\n",
      " ('79 ST', 141985),\n",
      " ('KINGSTON-THROOP', 142823),\n",
      " ('BAY RIDGE-95 ST', 142960),\n",
      " ('CORTELYOU ROAD', 142995),\n",
      " ('UNION ST', 146291),\n",
      " ('VAN SICLEN AVE', 149693),\n",
      " ('NEW UTRECHT AVE', 149736),\n",
      " ('GRANT AVE', 154565),\n",
      " ('MONTROSE AVE', 154658),\n",
      " ('GATES AVE', 155105),\n",
      " ('FRANKLIN AVE', 157702),\n",
      " ('PARSONS BLVD', 157747),\n",
      " ('LEFFERTS BLVD', 158005),\n",
      " ('MORGAN AVE', 158898),\n",
      " ('CARROLL ST', 162053),\n",
      " ('155 ST', 162078),\n",
      " ('JEFFERSON ST', 168027),\n",
      " ('116 ST', 171037),\n",
      " ('BAY PARKWAY', 171491),\n",
      " ('BEDFORD PARK BL', 172219),\n",
      " ('DYCKMAN-200 ST', 172641),\n",
      " ('53 ST', 175448),\n",
      " ('45 ST', 176466),\n",
      " ('NORTHERN BLVD', 176749),\n",
      " ('CATHEDRL-110 ST', 183245),\n",
      " ('9 ST', 184802),\n",
      " ('COURT SQ-23 ST', 187304),\n",
      " ('JFK JAMAICA CT1', 187397),\n",
      " ('BEDFORD/NOSTRAN', 191376),\n",
      " ('BAY PKY-22 AVE', 191897),\n",
      " ('KINGSBRIDGE RD', 193234),\n",
      " ('BAY RIDGE AVE', 196765),\n",
      " ('HIGH ST', 196877),\n",
      " ('GREENPOINT AVE', 202669),\n",
      " ('YORK ST', 208738),\n",
      " ('COURT SQ', 208892),\n",
      " ('NORWOOD-205 ST', 209282),\n",
      " ('67 AVE', 215771),\n",
      " ('20 AVE', 217356),\n",
      " ('169 ST', 218043),\n",
      " ('HOYT/SCHERMER', 219102),\n",
      " ('NASSAU AV', 219646),\n",
      " ('BROADWAY-ENY', 220553),\n",
      " ('ESSEX ST', 223799),\n",
      " ('7 AVE', 223863),\n",
      " ('46 ST', 224980),\n",
      " ('72 ST', 225103),\n",
      " ('GRAHAM AVE', 226642),\n",
      " ('96 ST', 234762),\n",
      " ('167 ST', 237332),\n",
      " ('CORTLANDT ST', 243551),\n",
      " ('PROSPECT PARK', 253706),\n",
      " ('42 ST-TIMES SQ', 255013),\n",
      " ('INWOOD-207 ST', 255277),\n",
      " ('EUCLID AVE', 255303),\n",
      " ('SPRING ST', 255466),\n",
      " ('NEWKIRK PLAZA', 256940),\n",
      " ('EAST BROADWAY', 257364),\n",
      " ('LORIMER ST', 263274),\n",
      " ('BARCLAYS CENTER', 263396),\n",
      " ('FT HAMILTON PKY', 270782),\n",
      " ('BERGEN ST', 273500),\n",
      " ('28 ST-BROADWAY', 278000),\n",
      " ('181 ST', 278465),\n",
      " ('CLINTON-WASH AV', 280842),\n",
      " ('FORDHAM ROAD', 282817),\n",
      " ('BRIGHTON BEACH', 286473),\n",
      " ('18 AVE', 289497),\n",
      " ('FLUSHING AVE', 295119),\n",
      " ('WORLD TRADE CTR', 305574),\n",
      " ('59 ST', 306593),\n",
      " ('175 ST', 308305),\n",
      " ('ROCKAWAY PKY', 315060),\n",
      " ('METROPOLITAN AV', 320932),\n",
      " ('SHEEPSHEAD BAY', 325341),\n",
      " ('ELMHURST AVE', 327985),\n",
      " ('WHITEHALL ST', 330966),\n",
      " ('168 ST-BROADWAY', 331448),\n",
      " ('HALSEY ST', 333545),\n",
      " ('MARCY AVE', 337407),\n",
      " ('STEINWAY ST', 343498),\n",
      " (\"PRINCE ST-B'WAY\", 348136),\n",
      " ('STILLWELL AVE', 349233),\n",
      " ('81 ST-MUSEUM', 350661),\n",
      " ('LEXINGTON AVE', 355859),\n",
      " ('DELANCEY ST', 357016),\n",
      " ('7 AVE-53 ST', 372721),\n",
      " (\"8 ST-B'WAY NYU\", 376604),\n",
      " ('2 AVE', 379828),\n",
      " ('63 DR-REGO PARK', 380538),\n",
      " ('UTICA AVE', 380966),\n",
      " ('14 ST-6 AVE', 396094),\n",
      " ('NOSTRAND AVE', 417423),\n",
      " ('36 ST', 421426),\n",
      " ('CHURCH AVE', 423933),\n",
      " ('5 AVE-59 ST', 439699),\n",
      " ('14 ST', 443235),\n",
      " ('1 AVE', 443688),\n",
      " ('GRAND AV-NEWTON', 448271),\n",
      " ('49 ST-7 AVE', 468766),\n",
      " ('50 ST', 507279),\n",
      " ('23 ST', 524883),\n",
      " ('JAMAICA-179 ST', 534124),\n",
      " ('23 ST-5 AVE', 536107),\n",
      " ('BROADWAY/LAFAY', 547531),\n",
      " ('BEDFORD AVE', 555194),\n",
      " ('145 ST', 571186),\n",
      " ('KINGS HIGHWAY', 576451),\n",
      " ('5 AVE-53 ST', 582953),\n",
      " ('86 ST', 608387),\n",
      " ('57 ST-7 AVE', 612942),\n",
      " ('23 ST-6 AVE', 618672),\n",
      " ('WOODHAVEN BLVD', 634133),\n",
      " ('UNION TPK-KEW G', 658118),\n",
      " ('FOREST HILLS-71', 666233),\n",
      " ('125 ST', 673355),\n",
      " ('DEKALB AVE', 678289),\n",
      " ('GRAND ST', 704316),\n",
      " ('QUEENS PLAZA', 776590),\n",
      " ('42 ST-BRYANT PK', 778297),\n",
      " ('8 AVE', 838753),\n",
      " ('W 4 ST-WASH SQ', 943862),\n",
      " ('JAY ST-METROTEC', 944577),\n",
      " ('LEXINGTON-53 ST', 949605),\n",
      " ('CHAMBERS ST', 1050064),\n",
      " ('FAR ROCKAWAY', 1092871),\n",
      " ('FULTON ST', 1125296),\n",
      " ('ROOSEVELT AVE', 1175011),\n",
      " ('AVE J', 1241065),\n",
      " ('47-50 ST-ROCK', 1246313),\n",
      " ('59 ST-COLUMBUS', 1261001),\n",
      " ('14 ST-UNION SQ', 1607385),\n",
      " ('34 ST-PENN STA', 1856676),\n",
      " ('42 ST-PA BUS TE', 2333092),\n",
      " ('34 ST-HERALD SQ', 2649344),\n",
      " ('AVE U', 5670667),\n",
      " ('170 ST', 50498953),\n",
      " ('CANAL ST', 85065892),\n",
      " ('ROCKAWAY BLVD', 117595786),\n",
      " ('TREMONT AVE', 271109761),\n",
      " ('161 ST-YANKEE', 1396000006),\n",
      " ('MYRTLE AVE', 1655219905)]\n"
     ]
    }
   ],
   "source": [
    "pprint (sorted_pairs)"
   ]
  },
  {
   "cell_type": "markdown",
   "metadata": {},
   "source": [
    "# Challenge 10\n"
   ]
  },
  {
   "cell_type": "markdown",
   "metadata": {},
   "source": [
    "Make a single list of these total ridership values and plot it."
   ]
  },
  {
   "cell_type": "code",
   "execution_count": 335,
   "metadata": {
    "collapsed": false
   },
   "outputs": [
    {
     "data": {
      "text/plain": [
       "<matplotlib.text.Text at 0x12a02be90>"
      ]
     },
     "execution_count": 335,
     "metadata": {},
     "output_type": "execute_result"
    },
    {
     "data": {
      "image/png": "[encoded data removed]",
      "text/plain": [
       "<matplotlib.figure.Figure at 0x12a845590>"
      ]
     },
     "metadata": {},
     "output_type": "display_data"
    }
   ],
   "source": [
    "station_list=[]\n",
    "total_ridership_counts=[]\n",
    "\n",
    "for tup in sorted_pairs:\n",
    "    station_list.append(tup[0]) #bringing stations to new list\n",
    "    total_ridership_counts.append(tup[1]) #bring total entries to corresponding list\n",
    "\n",
    "plt.figure(figsize=(10,7))\n",
    "plt.hist(total_ridership_counts)\n",
    "plt.title('Distribution of ridership among different stations')\n",
    "plt.xlabel('Total ridership for station')\n",
    "plt.ylabel('Frequency')"
   ]
  },
  {
   "cell_type": "code",
   "execution_count": 340,
   "metadata": {
    "collapsed": false
   },
   "outputs": [
    {
     "data": {
      "text/plain": [
       "<Container object of 10 artists>"
      ]
     },
     "execution_count": 340,
     "metadata": {},
     "output_type": "execute_result"
    },
    {
     "data": {
      "image/png": "[encoded data removed]",
      "text/plain": [
       "<matplotlib.figure.Figure at 0x1378a06d0>"
      ]
     },
     "metadata": {},
     "output_type": "display_data"
    }
   ],
   "source": [
    "x = range(0,len(total_dict.keys())+1)\n",
    "labels=[tup[0] for tup in sorted_pairs]\n",
    "plt.xticks(x, labels, rotation=45)\n",
    "indices = range(len(total_ridership_counts))\n",
    "\n",
    "plt.title('Total ridership per station')\n",
    "plt.xlabel('Station')\n",
    "plt.ylabel('Total ridership')\n",
    "\n",
    "#plot top 10 highest travel stations\n",
    "plt.bar(indices[len(indices)-10:], total_ridership_counts[len(total_ridership_counts)-10:])"
   ]
  },
  {
   "cell_type": "code",
   "execution_count": null,
   "metadata": {
    "collapsed": true
   },
   "outputs": [],
   "source": []
  }
 ],
 "metadata": {
  "kernelspec": {
   "display_name": "Python 2",
   "language": "python",
   "name": "python2"
  },
  "language_info": {
   "codemirror_mode": {
    "name": "ipython",
    "version": 2
   },
   "file_extension": ".py",
   "mimetype": "text/x-python",
   "name": "python",
   "nbconvert_exporter": "python",
   "pygments_lexer": "ipython2",
   "version": "2.7.11"
  }
 },
 "nbformat": 4,
 "nbformat_minor": 0
}
